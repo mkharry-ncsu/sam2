{
 "cells": [
  {
   "metadata": {},
   "cell_type": "markdown",
   "source": "## Segment Anything Image Preprocessing",
   "id": "591924debc896a51"
  },
  {
   "metadata": {
    "ExecuteTime": {
     "end_time": "2025-04-14T23:11:30.684469Z",
     "start_time": "2025-04-14T23:11:30.679367Z"
    }
   },
   "cell_type": "code",
   "source": [
    "NEW_ENV = False\n",
    "\n",
    "if NEW_ENV:\n",
    "    !pip install numpy pandas matplotlib\n",
    "    !pip install opencv-python torch\n",
    "    !pip install segment-anything\n"
   ],
   "id": "33b0696cfa490f2a",
   "outputs": [],
   "execution_count": 1
  },
  {
   "metadata": {
    "ExecuteTime": {
     "end_time": "2025-04-14T23:11:42.866224Z",
     "start_time": "2025-04-14T23:11:30.688459Z"
    }
   },
   "cell_type": "code",
   "source": [
    "import cv2\n",
    "import matplotlib.pyplot as plt\n",
    "import numpy as np\n",
    "from pathlib import Path\n",
    "from PIL import Image\n",
    "import torch\n",
    "\n",
    "from sam2.build_sam import build_sam2\n",
    "from sam2.sam2_image_predictor import SAM2ImagePredictor\n",
    "\n",
    "# device = torch.device('cuda' if torch.cuda.is_available() else 'cpu')\n",
    "device = torch.device('cuda' if torch.cuda.is_available() else 'mps' if torch.backends.mps.is_available() else 'cpu')\n"
   ],
   "id": "158b5d6cfc40666f",
   "outputs": [],
   "execution_count": 2
  },
  {
   "metadata": {
    "ExecuteTime": {
     "end_time": "2025-04-14T23:11:45.028983Z",
     "start_time": "2025-04-14T23:11:43.315449Z"
    }
   },
   "cell_type": "code",
   "source": [
    "# --- Load SAM-2 model and predictor ---\n",
    "sam2_checkpoint = \"../checkpoints/sam2.1_hiera_large.pt\"\n",
    "model_cfg = \"configs/sam2.1/sam2.1_hiera_l.yaml\"\n",
    "sam2_model = build_sam2(config_file=model_cfg, ckpt_path=sam2_checkpoint, device=\"mps\")\n",
    "sam2_model.eval().to(device)\n",
    "\n",
    "# --- Create the predictor ---\n",
    "predictor = SAM2ImagePredictor(sam2_model, device=device)\n"
   ],
   "id": "38d0fa97ecfa3f6d",
   "outputs": [],
   "execution_count": 3
  },
  {
   "metadata": {
    "ExecuteTime": {
     "end_time": "2025-04-14T23:11:45.039704Z",
     "start_time": "2025-04-14T23:11:45.035354Z"
    }
   },
   "cell_type": "code",
   "source": [
    "def show_points(coords, labels, ax, marker_size=375):\n",
    "    pos_points = coords[labels==1]\n",
    "    neg_points = coords[labels==0]\n",
    "    ax.scatter(pos_points[:, 0], pos_points[:, 1], color='green', marker='*', s=marker_size, edgecolor='white', linewidth=1.25)\n",
    "    ax.scatter(neg_points[:, 0], neg_points[:, 1], color='red', marker='*', s=marker_size, edgecolor='white', linewidth=1.25)\n",
    "\n",
    "def show_box(box, ax):\n",
    "    print(box)\n",
    "    print(box[0])\n",
    "    x0, y0 = box[0], box[1]\n",
    "    w, h = box[2] - box[0], box[3] - box[1]\n",
    "    ax.add_patch(plt.Rectangle((x0, y0), w, h, edgecolor='green', facecolor=(0, 0, 0, 0), lw=2))\n",
    "\n",
    "def show_mask(mask, ax, random_color=False, borders = True):\n",
    "    if random_color:\n",
    "        color = np.concatenate([np.random.random(3), np.array([0.6])], axis=0)\n",
    "    else:\n",
    "        color = np.array([30/255, 144/255, 255/255, 0.6])\n",
    "    h, w = mask.shape[-2:]\n",
    "    mask = mask.astype(np.uint8)\n",
    "    mask_image =  mask.reshape(h, w, 1) * color.reshape(1, 1, -1)\n",
    "    if borders:\n",
    "        import cv2\n",
    "        contours, _ = cv2.findContours(mask,cv2.RETR_EXTERNAL, cv2.CHAIN_APPROX_NONE)\n",
    "        # Try to smooth contours\n",
    "        contours = [cv2.approxPolyDP(contour, epsilon=0.01, closed=True) for contour in contours]\n",
    "        mask_image = cv2.drawContours(mask_image, contours, -1, (1, 1, 1, 0.5), thickness=2)\n",
    "    ax.imshow(mask_image)\n",
    "\n",
    "def show_masks(image, masks, scores, point_coords=None, box_coords=None, input_labels=None, borders=True):\n",
    "    for i, (mask, score) in enumerate(zip(masks, scores)):\n",
    "        plt.figure(figsize=(10, 10))\n",
    "        plt.imshow(image)\n",
    "        show_mask(mask, plt.gca(), borders=borders)\n",
    "        if point_coords is not None:\n",
    "            assert input_labels is not None\n",
    "            show_points(point_coords, input_labels, plt.gca())\n",
    "        if box_coords is not None:\n",
    "            # boxes\n",
    "            show_box(box_coords, plt.gca())\n",
    "        if len(scores) > 1:\n",
    "            plt.title(f\"Mask {i+1}, Score: {score:.3f}\", fontsize=18)\n",
    "        plt.axis('off')\n",
    "        plt.show()\n"
   ],
   "id": "3561f6e059bd2a",
   "outputs": [],
   "execution_count": 4
  },
  {
   "metadata": {
    "ExecuteTime": {
     "end_time": "2025-04-14T23:31:08.397868Z",
     "start_time": "2025-04-14T23:30:31.646263Z"
    }
   },
   "cell_type": "code",
   "source": [
    "image_dir = '/Users/m0h00x7/Projects/ncstate/CSC542/ECE542_Project/data/images'\n",
    "segmented_image_dir = '/Users/m0h00x7/Projects/ncstate/CSC542/ECE542_Project/data/segm_images'\n",
    "masks_dir = '/Users/m0h00x7/Projects/ncstate/CSC542/ECE542_Project/data/masks'\n",
    "\n",
    "# input_box = np.array([256, 512, 768, 1536])\n",
    "# input_label = np.array([1])\n",
    "\n",
    "# load mask from file\n",
    "mask_from_file = np.load(f'{masks_dir}/mask01.npy')\n",
    "\n",
    "\n",
    "img_files = list(Path(image_dir).glob('*.jpg'))\n",
    "for index, img_file in enumerate(img_files):\n",
    "\n",
    "    image = Image.open(img_file)\n",
    "    image_rgb = np.array(image.convert(\"RGB\"))\n",
    "\n",
    "    # plt.figure(figsize=(10, 10))\n",
    "    # plt.imshow(image_rgb)\n",
    "    # show_box(input_box, plt.gca())\n",
    "    # plt.axis('on')\n",
    "    # plt.show()\n",
    "\n",
    "    # set image in mask predictor\n",
    "    predictor.set_image(image_rgb)\n",
    "    # masks, scores, _ = predictor.predict(box=input_box[None, :], multimask_output=True)\n",
    "    masks, scores, _ = predictor.predict(mask_input=mask_from_file, multimask_output=False)\n",
    "    # masks, scores, _ = predictor.predict(multimask_output=False)\n",
    "    show_masks(image, masks, scores)\n",
    "\n",
    "    pass\n",
    "\n",
    "    # Create a mask where foreground is white (255) and background is black (0)\n",
    "    mask_uint8 = (masks[0] * 255).astype(np.uint8)\n",
    "\n",
    "    # # Invert the mask to get the background mask\n",
    "    # background_mask = 255 - mask_uint8\n",
    "\n",
    "    # Create the output image with the background removed\n",
    "    output_image = cv2.bitwise_and(image_rgb, image_rgb, mask=mask_uint8)\n",
    "    plt.figure(figsize=(5, 5))\n",
    "    plt.imshow(output_image)\n",
    "    plt.axis('on')\n",
    "    plt.show()\n",
    "\n",
    "    # save segmented image\n",
    "    output_image = Image.fromarray(output_image)\n",
    "    output_image.save(f'{segmented_image_dir}/{img_file.name}')\n",
    "\n",
    "    if index % 100 == 99:\n",
    "        print(f'{index+1}')\n",
    "    elif index % 10 == 9:\n",
    "        print(f'{index+1}', end='')\n",
    "    else:\n",
    "        print('.', end='')\n"
   ],
   "id": "43c36aef10900bb1",
   "outputs": [
    {
     "ename": "RuntimeError",
     "evalue": "The size of tensor a (64) must match the size of tensor b (256) at non-singleton dimension 3",
     "output_type": "error",
     "traceback": [
      "\u001B[31m---------------------------------------------------------------------------\u001B[39m",
      "\u001B[31mRuntimeError\u001B[39m                              Traceback (most recent call last)",
      "\u001B[36mCell\u001B[39m\u001B[36m \u001B[39m\u001B[32mIn[24]\u001B[39m\u001B[32m, line 27\u001B[39m\n\u001B[32m     25\u001B[39m predictor.set_image(image_rgb)\n\u001B[32m     26\u001B[39m \u001B[38;5;66;03m# masks, scores, _ = predictor.predict(box=input_box[None, :], multimask_output=True)\u001B[39;00m\n\u001B[32m---> \u001B[39m\u001B[32m27\u001B[39m masks, scores, _ = \u001B[43mpredictor\u001B[49m\u001B[43m.\u001B[49m\u001B[43mpredict\u001B[49m\u001B[43m(\u001B[49m\u001B[43mmask_input\u001B[49m\u001B[43m=\u001B[49m\u001B[43mmask_from_file\u001B[49m\u001B[43m,\u001B[49m\u001B[43m \u001B[49m\u001B[43mmultimask_output\u001B[49m\u001B[43m=\u001B[49m\u001B[38;5;28;43;01mFalse\u001B[39;49;00m\u001B[43m)\u001B[49m\n\u001B[32m     28\u001B[39m \u001B[38;5;66;03m# masks, scores, _ = predictor.predict(multimask_output=False)\u001B[39;00m\n\u001B[32m     29\u001B[39m show_masks(image, masks, scores)\n",
      "\u001B[36mFile \u001B[39m\u001B[32m~/Projects/ncstate/CSC542/sam2/sam2/sam2_image_predictor.py:291\u001B[39m, in \u001B[36mSAM2ImagePredictor.predict\u001B[39m\u001B[34m(self, point_coords, point_labels, box, mask_input, multimask_output, return_logits, normalize_coords)\u001B[39m\n\u001B[32m    285\u001B[39m \u001B[38;5;66;03m# Transform input prompts\u001B[39;00m\n\u001B[32m    287\u001B[39m mask_input, unnorm_coords, labels, unnorm_box = \u001B[38;5;28mself\u001B[39m._prep_prompts(\n\u001B[32m    288\u001B[39m     point_coords, point_labels, box, mask_input, normalize_coords\n\u001B[32m    289\u001B[39m )\n\u001B[32m--> \u001B[39m\u001B[32m291\u001B[39m masks, iou_predictions, low_res_masks = \u001B[38;5;28;43mself\u001B[39;49m\u001B[43m.\u001B[49m\u001B[43m_predict\u001B[49m\u001B[43m(\u001B[49m\n\u001B[32m    292\u001B[39m \u001B[43m    \u001B[49m\u001B[43munnorm_coords\u001B[49m\u001B[43m,\u001B[49m\n\u001B[32m    293\u001B[39m \u001B[43m    \u001B[49m\u001B[43mlabels\u001B[49m\u001B[43m,\u001B[49m\n\u001B[32m    294\u001B[39m \u001B[43m    \u001B[49m\u001B[43munnorm_box\u001B[49m\u001B[43m,\u001B[49m\n\u001B[32m    295\u001B[39m \u001B[43m    \u001B[49m\u001B[43mmask_input\u001B[49m\u001B[43m,\u001B[49m\n\u001B[32m    296\u001B[39m \u001B[43m    \u001B[49m\u001B[43mmultimask_output\u001B[49m\u001B[43m,\u001B[49m\n\u001B[32m    297\u001B[39m \u001B[43m    \u001B[49m\u001B[43mreturn_logits\u001B[49m\u001B[43m=\u001B[49m\u001B[43mreturn_logits\u001B[49m\u001B[43m,\u001B[49m\n\u001B[32m    298\u001B[39m \u001B[43m\u001B[49m\u001B[43m)\u001B[49m\n\u001B[32m    300\u001B[39m masks_np = masks.squeeze(\u001B[32m0\u001B[39m).float().detach().cpu().numpy()\n\u001B[32m    301\u001B[39m iou_predictions_np = iou_predictions.squeeze(\u001B[32m0\u001B[39m).float().detach().cpu().numpy()\n",
      "\u001B[36mFile \u001B[39m\u001B[32m~/Projects/ncstate/CSC542/sam2/.venv/lib/python3.12/site-packages/torch/utils/_contextlib.py:116\u001B[39m, in \u001B[36mcontext_decorator.<locals>.decorate_context\u001B[39m\u001B[34m(*args, **kwargs)\u001B[39m\n\u001B[32m    113\u001B[39m \u001B[38;5;129m@functools\u001B[39m.wraps(func)\n\u001B[32m    114\u001B[39m \u001B[38;5;28;01mdef\u001B[39;00m\u001B[38;5;250m \u001B[39m\u001B[34mdecorate_context\u001B[39m(*args, **kwargs):\n\u001B[32m    115\u001B[39m     \u001B[38;5;28;01mwith\u001B[39;00m ctx_factory():\n\u001B[32m--> \u001B[39m\u001B[32m116\u001B[39m         \u001B[38;5;28;01mreturn\u001B[39;00m \u001B[43mfunc\u001B[49m\u001B[43m(\u001B[49m\u001B[43m*\u001B[49m\u001B[43margs\u001B[49m\u001B[43m,\u001B[49m\u001B[43m \u001B[49m\u001B[43m*\u001B[49m\u001B[43m*\u001B[49m\u001B[43mkwargs\u001B[49m\u001B[43m)\u001B[49m\n",
      "\u001B[36mFile \u001B[39m\u001B[32m~/Projects/ncstate/CSC542/sam2/sam2/sam2_image_predictor.py:420\u001B[39m, in \u001B[36mSAM2ImagePredictor._predict\u001B[39m\u001B[34m(self, point_coords, point_labels, boxes, mask_input, multimask_output, return_logits, img_idx)\u001B[39m\n\u001B[32m    413\u001B[39m batched_mode = (\n\u001B[32m    414\u001B[39m     concat_points \u001B[38;5;129;01mis\u001B[39;00m \u001B[38;5;129;01mnot\u001B[39;00m \u001B[38;5;28;01mNone\u001B[39;00m \u001B[38;5;129;01mand\u001B[39;00m concat_points[\u001B[32m0\u001B[39m].shape[\u001B[32m0\u001B[39m] > \u001B[32m1\u001B[39m\n\u001B[32m    415\u001B[39m )  \u001B[38;5;66;03m# multi object prediction\u001B[39;00m\n\u001B[32m    416\u001B[39m high_res_features = [\n\u001B[32m    417\u001B[39m     feat_level[img_idx].unsqueeze(\u001B[32m0\u001B[39m)\n\u001B[32m    418\u001B[39m     \u001B[38;5;28;01mfor\u001B[39;00m feat_level \u001B[38;5;129;01min\u001B[39;00m \u001B[38;5;28mself\u001B[39m._features[\u001B[33m\"\u001B[39m\u001B[33mhigh_res_feats\u001B[39m\u001B[33m\"\u001B[39m]\n\u001B[32m    419\u001B[39m ]\n\u001B[32m--> \u001B[39m\u001B[32m420\u001B[39m low_res_masks, iou_predictions, _, _ = \u001B[38;5;28;43mself\u001B[39;49m\u001B[43m.\u001B[49m\u001B[43mmodel\u001B[49m\u001B[43m.\u001B[49m\u001B[43msam_mask_decoder\u001B[49m\u001B[43m(\u001B[49m\n\u001B[32m    421\u001B[39m \u001B[43m    \u001B[49m\u001B[43mimage_embeddings\u001B[49m\u001B[43m=\u001B[49m\u001B[38;5;28;43mself\u001B[39;49m\u001B[43m.\u001B[49m\u001B[43m_features\u001B[49m\u001B[43m[\u001B[49m\u001B[33;43m\"\u001B[39;49m\u001B[33;43mimage_embed\u001B[39;49m\u001B[33;43m\"\u001B[39;49m\u001B[43m]\u001B[49m\u001B[43m[\u001B[49m\u001B[43mimg_idx\u001B[49m\u001B[43m]\u001B[49m\u001B[43m.\u001B[49m\u001B[43munsqueeze\u001B[49m\u001B[43m(\u001B[49m\u001B[32;43m0\u001B[39;49m\u001B[43m)\u001B[49m\u001B[43m,\u001B[49m\n\u001B[32m    422\u001B[39m \u001B[43m    \u001B[49m\u001B[43mimage_pe\u001B[49m\u001B[43m=\u001B[49m\u001B[38;5;28;43mself\u001B[39;49m\u001B[43m.\u001B[49m\u001B[43mmodel\u001B[49m\u001B[43m.\u001B[49m\u001B[43msam_prompt_encoder\u001B[49m\u001B[43m.\u001B[49m\u001B[43mget_dense_pe\u001B[49m\u001B[43m(\u001B[49m\u001B[43m)\u001B[49m\u001B[43m,\u001B[49m\n\u001B[32m    423\u001B[39m \u001B[43m    \u001B[49m\u001B[43msparse_prompt_embeddings\u001B[49m\u001B[43m=\u001B[49m\u001B[43msparse_embeddings\u001B[49m\u001B[43m,\u001B[49m\n\u001B[32m    424\u001B[39m \u001B[43m    \u001B[49m\u001B[43mdense_prompt_embeddings\u001B[49m\u001B[43m=\u001B[49m\u001B[43mdense_embeddings\u001B[49m\u001B[43m,\u001B[49m\n\u001B[32m    425\u001B[39m \u001B[43m    \u001B[49m\u001B[43mmultimask_output\u001B[49m\u001B[43m=\u001B[49m\u001B[43mmultimask_output\u001B[49m\u001B[43m,\u001B[49m\n\u001B[32m    426\u001B[39m \u001B[43m    \u001B[49m\u001B[43mrepeat_image\u001B[49m\u001B[43m=\u001B[49m\u001B[43mbatched_mode\u001B[49m\u001B[43m,\u001B[49m\n\u001B[32m    427\u001B[39m \u001B[43m    \u001B[49m\u001B[43mhigh_res_features\u001B[49m\u001B[43m=\u001B[49m\u001B[43mhigh_res_features\u001B[49m\u001B[43m,\u001B[49m\n\u001B[32m    428\u001B[39m \u001B[43m\u001B[49m\u001B[43m)\u001B[49m\n\u001B[32m    430\u001B[39m \u001B[38;5;66;03m# Upscale the masks to the original image resolution\u001B[39;00m\n\u001B[32m    431\u001B[39m masks = \u001B[38;5;28mself\u001B[39m._transforms.postprocess_masks(\n\u001B[32m    432\u001B[39m     low_res_masks, \u001B[38;5;28mself\u001B[39m._orig_hw[img_idx]\n\u001B[32m    433\u001B[39m )\n",
      "\u001B[36mFile \u001B[39m\u001B[32m~/Projects/ncstate/CSC542/sam2/.venv/lib/python3.12/site-packages/torch/nn/modules/module.py:1739\u001B[39m, in \u001B[36mModule._wrapped_call_impl\u001B[39m\u001B[34m(self, *args, **kwargs)\u001B[39m\n\u001B[32m   1737\u001B[39m     \u001B[38;5;28;01mreturn\u001B[39;00m \u001B[38;5;28mself\u001B[39m._compiled_call_impl(*args, **kwargs)  \u001B[38;5;66;03m# type: ignore[misc]\u001B[39;00m\n\u001B[32m   1738\u001B[39m \u001B[38;5;28;01melse\u001B[39;00m:\n\u001B[32m-> \u001B[39m\u001B[32m1739\u001B[39m     \u001B[38;5;28;01mreturn\u001B[39;00m \u001B[38;5;28;43mself\u001B[39;49m\u001B[43m.\u001B[49m\u001B[43m_call_impl\u001B[49m\u001B[43m(\u001B[49m\u001B[43m*\u001B[49m\u001B[43margs\u001B[49m\u001B[43m,\u001B[49m\u001B[43m \u001B[49m\u001B[43m*\u001B[49m\u001B[43m*\u001B[49m\u001B[43mkwargs\u001B[49m\u001B[43m)\u001B[49m\n",
      "\u001B[36mFile \u001B[39m\u001B[32m~/Projects/ncstate/CSC542/sam2/.venv/lib/python3.12/site-packages/torch/nn/modules/module.py:1750\u001B[39m, in \u001B[36mModule._call_impl\u001B[39m\u001B[34m(self, *args, **kwargs)\u001B[39m\n\u001B[32m   1745\u001B[39m \u001B[38;5;66;03m# If we don't have any hooks, we want to skip the rest of the logic in\u001B[39;00m\n\u001B[32m   1746\u001B[39m \u001B[38;5;66;03m# this function, and just call forward.\u001B[39;00m\n\u001B[32m   1747\u001B[39m \u001B[38;5;28;01mif\u001B[39;00m \u001B[38;5;129;01mnot\u001B[39;00m (\u001B[38;5;28mself\u001B[39m._backward_hooks \u001B[38;5;129;01mor\u001B[39;00m \u001B[38;5;28mself\u001B[39m._backward_pre_hooks \u001B[38;5;129;01mor\u001B[39;00m \u001B[38;5;28mself\u001B[39m._forward_hooks \u001B[38;5;129;01mor\u001B[39;00m \u001B[38;5;28mself\u001B[39m._forward_pre_hooks\n\u001B[32m   1748\u001B[39m         \u001B[38;5;129;01mor\u001B[39;00m _global_backward_pre_hooks \u001B[38;5;129;01mor\u001B[39;00m _global_backward_hooks\n\u001B[32m   1749\u001B[39m         \u001B[38;5;129;01mor\u001B[39;00m _global_forward_hooks \u001B[38;5;129;01mor\u001B[39;00m _global_forward_pre_hooks):\n\u001B[32m-> \u001B[39m\u001B[32m1750\u001B[39m     \u001B[38;5;28;01mreturn\u001B[39;00m \u001B[43mforward_call\u001B[49m\u001B[43m(\u001B[49m\u001B[43m*\u001B[49m\u001B[43margs\u001B[49m\u001B[43m,\u001B[49m\u001B[43m \u001B[49m\u001B[43m*\u001B[49m\u001B[43m*\u001B[49m\u001B[43mkwargs\u001B[49m\u001B[43m)\u001B[49m\n\u001B[32m   1752\u001B[39m result = \u001B[38;5;28;01mNone\u001B[39;00m\n\u001B[32m   1753\u001B[39m called_always_called_hooks = \u001B[38;5;28mset\u001B[39m()\n",
      "\u001B[36mFile \u001B[39m\u001B[32m~/Projects/ncstate/CSC542/sam2/sam2/modeling/sam/mask_decoder.py:136\u001B[39m, in \u001B[36mMaskDecoder.forward\u001B[39m\u001B[34m(self, image_embeddings, image_pe, sparse_prompt_embeddings, dense_prompt_embeddings, multimask_output, repeat_image, high_res_features)\u001B[39m\n\u001B[32m    110\u001B[39m \u001B[38;5;28;01mdef\u001B[39;00m\u001B[38;5;250m \u001B[39m\u001B[34mforward\u001B[39m(\n\u001B[32m    111\u001B[39m     \u001B[38;5;28mself\u001B[39m,\n\u001B[32m    112\u001B[39m     image_embeddings: torch.Tensor,\n\u001B[32m   (...)\u001B[39m\u001B[32m    118\u001B[39m     high_res_features: Optional[List[torch.Tensor]] = \u001B[38;5;28;01mNone\u001B[39;00m,\n\u001B[32m    119\u001B[39m ) -> Tuple[torch.Tensor, torch.Tensor]:\n\u001B[32m    120\u001B[39m \u001B[38;5;250m    \u001B[39m\u001B[33;03m\"\"\"\u001B[39;00m\n\u001B[32m    121\u001B[39m \u001B[33;03m    Predict masks given image and prompt embeddings.\u001B[39;00m\n\u001B[32m    122\u001B[39m \n\u001B[32m   (...)\u001B[39m\u001B[32m    134\u001B[39m \u001B[33;03m      torch.Tensor: batched SAM token for mask output\u001B[39;00m\n\u001B[32m    135\u001B[39m \u001B[33;03m    \"\"\"\u001B[39;00m\n\u001B[32m--> \u001B[39m\u001B[32m136\u001B[39m     masks, iou_pred, mask_tokens_out, object_score_logits = \u001B[38;5;28;43mself\u001B[39;49m\u001B[43m.\u001B[49m\u001B[43mpredict_masks\u001B[49m\u001B[43m(\u001B[49m\n\u001B[32m    137\u001B[39m \u001B[43m        \u001B[49m\u001B[43mimage_embeddings\u001B[49m\u001B[43m=\u001B[49m\u001B[43mimage_embeddings\u001B[49m\u001B[43m,\u001B[49m\n\u001B[32m    138\u001B[39m \u001B[43m        \u001B[49m\u001B[43mimage_pe\u001B[49m\u001B[43m=\u001B[49m\u001B[43mimage_pe\u001B[49m\u001B[43m,\u001B[49m\n\u001B[32m    139\u001B[39m \u001B[43m        \u001B[49m\u001B[43msparse_prompt_embeddings\u001B[49m\u001B[43m=\u001B[49m\u001B[43msparse_prompt_embeddings\u001B[49m\u001B[43m,\u001B[49m\n\u001B[32m    140\u001B[39m \u001B[43m        \u001B[49m\u001B[43mdense_prompt_embeddings\u001B[49m\u001B[43m=\u001B[49m\u001B[43mdense_prompt_embeddings\u001B[49m\u001B[43m,\u001B[49m\n\u001B[32m    141\u001B[39m \u001B[43m        \u001B[49m\u001B[43mrepeat_image\u001B[49m\u001B[43m=\u001B[49m\u001B[43mrepeat_image\u001B[49m\u001B[43m,\u001B[49m\n\u001B[32m    142\u001B[39m \u001B[43m        \u001B[49m\u001B[43mhigh_res_features\u001B[49m\u001B[43m=\u001B[49m\u001B[43mhigh_res_features\u001B[49m\u001B[43m,\u001B[49m\n\u001B[32m    143\u001B[39m \u001B[43m    \u001B[49m\u001B[43m)\u001B[49m\n\u001B[32m    145\u001B[39m     \u001B[38;5;66;03m# Select the correct mask or masks for output\u001B[39;00m\n\u001B[32m    146\u001B[39m     \u001B[38;5;28;01mif\u001B[39;00m multimask_output:\n",
      "\u001B[36mFile \u001B[39m\u001B[32m~/Projects/ncstate/CSC542/sam2/sam2/modeling/sam/mask_decoder.py:205\u001B[39m, in \u001B[36mMaskDecoder.predict_masks\u001B[39m\u001B[34m(self, image_embeddings, image_pe, sparse_prompt_embeddings, dense_prompt_embeddings, repeat_image, high_res_features)\u001B[39m\n\u001B[32m    203\u001B[39m     \u001B[38;5;28;01massert\u001B[39;00m image_embeddings.shape[\u001B[32m0\u001B[39m] == tokens.shape[\u001B[32m0\u001B[39m]\n\u001B[32m    204\u001B[39m     src = image_embeddings\n\u001B[32m--> \u001B[39m\u001B[32m205\u001B[39m src = \u001B[43msrc\u001B[49m\u001B[43m \u001B[49m\u001B[43m+\u001B[49m\u001B[43m \u001B[49m\u001B[43mdense_prompt_embeddings\u001B[49m\n\u001B[32m    206\u001B[39m \u001B[38;5;28;01massert\u001B[39;00m (\n\u001B[32m    207\u001B[39m     image_pe.size(\u001B[32m0\u001B[39m) == \u001B[32m1\u001B[39m\n\u001B[32m    208\u001B[39m ), \u001B[33m\"\u001B[39m\u001B[33mimage_pe should have size 1 in batch dim (from `get_dense_pe()`)\u001B[39m\u001B[33m\"\u001B[39m\n\u001B[32m    209\u001B[39m pos_src = torch.repeat_interleave(image_pe, tokens.shape[\u001B[32m0\u001B[39m], dim=\u001B[32m0\u001B[39m)\n",
      "\u001B[31mRuntimeError\u001B[39m: The size of tensor a (64) must match the size of tensor b (256) at non-singleton dimension 3"
     ]
    }
   ],
   "execution_count": 24
  },
  {
   "metadata": {
    "ExecuteTime": {
     "end_time": "2025-04-14T23:29:46.478904Z",
     "start_time": "2025-04-14T23:29:46.471669Z"
    }
   },
   "cell_type": "code",
   "source": [
    "# masks_dir = '/Users/m0h00x7/Projects/ncstate/CSC542/ECE542_Project/data/masks'\n",
    "# .save(f'{masks_dir}/mask01')\n",
    "\n",
    "np.save(f'{masks_dir}/mask01.npy', masks)\n"
   ],
   "id": "575a16fb525aa21b",
   "outputs": [],
   "execution_count": 21
  },
  {
   "metadata": {},
   "cell_type": "code",
   "source": "best_masks.append(masks[0])\n",
   "id": "83d492dc879c262e",
   "outputs": [],
   "execution_count": null
  },
  {
   "metadata": {
    "ExecuteTime": {
     "end_time": "2025-04-14T23:16:03.910424Z",
     "start_time": "2025-04-14T23:16:03.907788Z"
    }
   },
   "cell_type": "code",
   "source": "",
   "id": "fa31978aa8b2a487",
   "outputs": [],
   "execution_count": 10
  },
  {
   "metadata": {},
   "cell_type": "code",
   "source": "show_masks(image, best_masks, scores)\n",
   "id": "26aef2c9c2942b6c",
   "outputs": [],
   "execution_count": null
  },
  {
   "metadata": {},
   "cell_type": "code",
   "outputs": [],
   "execution_count": null,
   "source": "",
   "id": "2b8ebec2b1bf360d"
  }
 ],
 "metadata": {
  "kernelspec": {
   "display_name": "Python 3",
   "language": "python",
   "name": "python3"
  },
  "language_info": {
   "codemirror_mode": {
    "name": "ipython",
    "version": 2
   },
   "file_extension": ".py",
   "mimetype": "text/x-python",
   "name": "python",
   "nbconvert_exporter": "python",
   "pygments_lexer": "ipython2",
   "version": "2.7.6"
  }
 },
 "nbformat": 4,
 "nbformat_minor": 5
}
